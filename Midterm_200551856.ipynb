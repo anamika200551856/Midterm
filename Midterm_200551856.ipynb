{
 "cells": [
  {
   "cell_type": "markdown",
   "id": "e2e6227b",
   "metadata": {},
   "source": [
    "# Question 21"
   ]
  },
  {
   "cell_type": "code",
   "execution_count": 6,
   "id": "9afec153",
   "metadata": {},
   "outputs": [
    {
     "name": "stdout",
     "output_type": "stream",
     "text": [
      "Length of the segment: 5.0\n",
      "Slope of the segment: 0.75\n"
     ]
    }
   ],
   "source": [
    "import math\n",
    "\n",
    "class Point:\n",
    "    def __init__(self, x=0, y=0):\n",
    "        self.x = x\n",
    "        self.y = y\n",
    "\n",
    "class Segment:\n",
    "    def __init__(self, point1, point2):\n",
    "        self.point1 = point1\n",
    "        self.point2 = point2\n",
    "    \n",
    "    def length(self):\n",
    "        return math.sqrt((self.point2.x - self.point1.x)**2 + (self.point2.y - self.point1.y)**2)\n",
    "    \n",
    "    def slope(self):\n",
    "        if self.point2.x == self.point1.x:\n",
    "            return None  \n",
    "        else:\n",
    "            return (self.point2.x - self.point1.x)/(self.point2.y - self.point1.y)\n",
    "\n",
    "point1 = Point(3,4)\n",
    "point2 = Point(0,0)\n",
    "segment = Segment(point1, point2)\n",
    "\n",
    "print(\"Length of the segment:\", segment.length())\n",
    "print(\"Slope of the segment:\", segment.slope())\n"
   ]
  },
  {
   "cell_type": "markdown",
   "id": "57d6704e",
   "metadata": {},
   "source": [
    "# Question 22"
   ]
  },
  {
   "cell_type": "code",
   "execution_count": 11,
   "id": "2c675a06",
   "metadata": {},
   "outputs": [
    {
     "name": "stdout",
     "output_type": "stream",
     "text": [
      "(1, '2015-01-01', 10)\n",
      "(2, '2015-01-02', 25)\n",
      "(3, '2015-01-03', 20)\n",
      "(4, '2015-01-04', 30)\n"
     ]
    }
   ],
   "source": [
    "import sqlite3\n",
    "\n",
    "conn = sqlite3.connect(':memory:')\n",
    "cur = conn.cursor()\n",
    "\n",
    "cur.execute('''\n",
    "    CREATE TABLE Weather (\n",
    "        id INTEGER PRIMARY KEY,\n",
    "        recordDate DATE,\n",
    "        temperature INTEGER\n",
    "    )\n",
    "''')\n",
    "\n",
    "data = [\n",
    "    (1, '2015-01-01', 10),\n",
    "    (2, '2015-01-02', 25),\n",
    "    (3, '2015-01-03', 20),\n",
    "    (4, '2015-01-04', 30)\n",
    "]\n",
    "\n",
    "cur.executemany('INSERT INTO Weather (id, recordDate, temperature) VALUES (?, ?, ?)', data)\n",
    "\n",
    "conn.commit()\n",
    "\n",
    "cur.execute('SELECT * FROM Weather')\n",
    "rows = cur.fetchall()\n",
    "for row in rows:\n",
    "    print(row)\n",
    "\n",
    "conn.close()\n"
   ]
  },
  {
   "cell_type": "code",
   "execution_count": 13,
   "id": "b83e4393",
   "metadata": {},
   "outputs": [
    {
     "name": "stdout",
     "output_type": "stream",
     "text": [
      "IDs with higher temperatures compared to previous dates:\n",
      "2\n",
      "4\n"
     ]
    }
   ],
   "source": [
    "conn = sqlite3.connect(':memory:')\n",
    "cur = conn.cursor()\n",
    "\n",
    "cur.execute('''\n",
    "    CREATE TABLE Weather (\n",
    "        id INTEGER PRIMARY KEY,\n",
    "        recordDate DATE,\n",
    "        temperature INTEGER\n",
    "    )\n",
    "''')\n",
    "\n",
    "data = [\n",
    "    (1, '2015-01-01', 10),\n",
    "    (2, '2015-01-02', 25),\n",
    "    (3, '2015-01-03', 20),\n",
    "    (4, '2015-01-04', 30)\n",
    "]\n",
    "\n",
    "cur.executemany('INSERT INTO Weather (id, recordDate, temperature) VALUES (?, ?, ?)', data)\n",
    "conn.commit()\n",
    "\n",
    "sql_query = '''\n",
    "    SELECT w.id\n",
    "    FROM Weather w\n",
    "    WHERE EXISTS (\n",
    "        SELECT 1\n",
    "        FROM Weather w2\n",
    "        WHERE w2.recordDate = date(w.recordDate, '-1 day')\n",
    "          AND w.temperature > w2.temperature\n",
    "    )\n",
    "'''\n",
    "\n",
    "cur.execute(sql_query)\n",
    "rows = cur.fetchall()\n",
    "\n",
    "\n",
    "print(\"IDs with higher temperatures compared to previous dates:\")\n",
    "for row in rows:\n",
    "    print(row[0])\n",
    "\n",
    "conn.close()\n"
   ]
  },
  {
   "cell_type": "markdown",
   "id": "b63b6606",
   "metadata": {},
   "source": [
    "# Question 23"
   ]
  },
  {
   "cell_type": "code",
   "execution_count": 19,
   "id": "1e9a4104",
   "metadata": {},
   "outputs": [
    {
     "name": "stdout",
     "output_type": "stream",
     "text": [
      "f(0,0)\n",
      "\n",
      "f(0,1)\n",
      "*\n",
      "\n",
      "f(0,2)\n",
      "*\n",
      "**\n",
      " *\n",
      "\n",
      "f(0,4)\n",
      "*\n",
      "**\n",
      " *\n",
      "****\n",
      "  *\n",
      "  **\n",
      "   *\n",
      "\n"
     ]
    }
   ],
   "source": [
    "def tough(indent, star):\n",
    "    if star > 0:\n",
    "        tough(indent, star // 2)\n",
    "        print(\" \" * indent + \"*\" * star)\n",
    "        tough(indent + star // 2, star // 2)\n",
    "\n",
    "def test_function():\n",
    "    test_cases = [0, 1, 2, 4]\n",
    "    \n",
    "    for star in test_cases:\n",
    "        print(f\"f(0,{star})\")\n",
    "        tough(0, star)\n",
    "        print()\n",
    "\n",
    "test_function()\n"
   ]
  },
  {
   "cell_type": "code",
   "execution_count": null,
   "id": "33bc9b0b",
   "metadata": {},
   "outputs": [],
   "source": []
  },
  {
   "cell_type": "code",
   "execution_count": null,
   "id": "a99c741b",
   "metadata": {},
   "outputs": [],
   "source": []
  }
 ],
 "metadata": {
  "kernelspec": {
   "display_name": "Python 3 (ipykernel)",
   "language": "python",
   "name": "python3"
  },
  "language_info": {
   "codemirror_mode": {
    "name": "ipython",
    "version": 3
   },
   "file_extension": ".py",
   "mimetype": "text/x-python",
   "name": "python",
   "nbconvert_exporter": "python",
   "pygments_lexer": "ipython3",
   "version": "3.10.9"
  }
 },
 "nbformat": 4,
 "nbformat_minor": 5
}
